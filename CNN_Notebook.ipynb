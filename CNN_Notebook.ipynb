{
  "nbformat": 4,
  "nbformat_minor": 0,
  "metadata": {
    "colab": {
      "provenance": [],
      "authorship_tag": "ABX9TyNurIvpmCzWlQCWw0MqGK1u",
      "include_colab_link": true
    },
    "kernelspec": {
      "name": "python3",
      "display_name": "Python 3"
    },
    "language_info": {
      "name": "python"
    }
  },
  "cells": [
    {
      "cell_type": "markdown",
      "metadata": {
        "id": "view-in-github",
        "colab_type": "text"
      },
      "source": [
        "<a href=\"https://colab.research.google.com/github/akarsh0913/Practice-Deep-Learning/blob/main/CNN_Notebook.ipynb\" target=\"_parent\"><img src=\"https://colab.research.google.com/assets/colab-badge.svg\" alt=\"Open In Colab\"/></a>"
      ]
    },
    {
      "cell_type": "code",
      "execution_count": null,
      "metadata": {
        "id": "CG-_1CAXDbDa"
      },
      "outputs": [],
      "source": [
        "import pickle\n",
        "import numpy as np\n",
        "import pandas as pandas\n",
        "import os\n",
        "import re\n",
        "import csv\n",
        "import cv2\n",
        "import tensorflow as tf\n",
        "from tensorflow.keras.models import Sequential\n",
        "from tensorflow.keras.layers import Dense, Dropout, Activation, Flatten, Conv2D, MaxPooling2D"
      ]
    },
    {
      "cell_type": "code",
      "source": [
        "X = pickle.load(open(\"/content/drive/MyDrive/Pickle files/new/X.pickle\",\"rb\"))\n",
        "y = pickle.load(open(\"/content/drive/MyDrive/Pickle files/new/y.pickle\",\"rb\"))"
      ],
      "metadata": {
        "id": "YcT7XLBoEFXM"
      },
      "execution_count": 22,
      "outputs": []
    },
    {
      "cell_type": "code",
      "source": [
        "# Scale the data\n",
        "# Min value (0) and Max value (255) for pixel data\n",
        "X = X/255.0"
      ],
      "metadata": {
        "id": "DWgtSDWeEMxw"
      },
      "execution_count": 23,
      "outputs": []
    },
    {
      "cell_type": "code",
      "source": [
        "model = Sequential()"
      ],
      "metadata": {
        "id": "Udl7YeqRFzUA"
      },
      "execution_count": 24,
      "outputs": []
    },
    {
      "cell_type": "code",
      "source": [
        "model.add(Conv2D(64, (3,3), input_shape = X.shape[1:]))\n",
        "model.add(Activation(\"relu\"))\n",
        "model.add(MaxPooling2D(pool_size=(2,2)))"
      ],
      "metadata": {
        "id": "wXhBA6VvF5MD"
      },
      "execution_count": 25,
      "outputs": []
    },
    {
      "cell_type": "code",
      "source": [
        "model.add(Conv2D(64, (3,3)))\n",
        "model.add(Activation(\"relu\"))\n",
        "model.add(MaxPooling2D(pool_size=(2,2)))"
      ],
      "metadata": {
        "id": "mcZjKLwcGO3I"
      },
      "execution_count": 26,
      "outputs": []
    },
    {
      "cell_type": "code",
      "source": [
        "model.add(Flatten())\n",
        "model.add(Dense(64))"
      ],
      "metadata": {
        "id": "yDhEehlMGTMa"
      },
      "execution_count": 27,
      "outputs": []
    },
    {
      "cell_type": "code",
      "source": [
        "model.add(Dense(1))\n",
        "model.add(Activation(\"sigmoid\"))"
      ],
      "metadata": {
        "id": "_ccIkRh9GkM_"
      },
      "execution_count": 28,
      "outputs": []
    },
    {
      "cell_type": "code",
      "source": [
        "model.compile(loss=\"binary_crossentropy\", optimizer=\"adam\", metrics=['accuracy'])"
      ],
      "metadata": {
        "id": "0Ek-p57aGqt-"
      },
      "execution_count": 29,
      "outputs": []
    },
    {
      "cell_type": "code",
      "source": [
        "model.fit(X, y, batch_size=32, epochs=10, validation_split=0.1)"
      ],
      "metadata": {
        "colab": {
          "base_uri": "https://localhost:8080/"
        },
        "id": "wj1Ev0zPGzhB",
        "outputId": "930877a1-2193-49bd-8b1f-68db44619682"
      },
      "execution_count": 30,
      "outputs": [
        {
          "output_type": "stream",
          "name": "stdout",
          "text": [
            "Epoch 1/10\n",
            "701/701 [==============================] - 905s 1s/step - loss: 0.6859 - accuracy: 0.5589 - val_loss: 0.6659 - val_accuracy: 0.6101\n",
            "Epoch 2/10\n",
            "701/701 [==============================] - 854s 1s/step - loss: 0.6010 - accuracy: 0.6806 - val_loss: 0.5622 - val_accuracy: 0.7228\n",
            "Epoch 3/10\n",
            "701/701 [==============================] - 867s 1s/step - loss: 0.4947 - accuracy: 0.7642 - val_loss: 0.4986 - val_accuracy: 0.7517\n",
            "Epoch 4/10\n",
            "701/701 [==============================] - 879s 1s/step - loss: 0.4384 - accuracy: 0.7981 - val_loss: 0.4809 - val_accuracy: 0.7846\n",
            "Epoch 5/10\n",
            "701/701 [==============================] - 871s 1s/step - loss: 0.3915 - accuracy: 0.8224 - val_loss: 0.5051 - val_accuracy: 0.7746\n",
            "Epoch 6/10\n",
            "701/701 [==============================] - 886s 1s/step - loss: 0.3449 - accuracy: 0.8470 - val_loss: 0.4809 - val_accuracy: 0.7946\n",
            "Epoch 7/10\n",
            "701/701 [==============================] - 880s 1s/step - loss: 0.3052 - accuracy: 0.8658 - val_loss: 0.5826 - val_accuracy: 0.7585\n",
            "Epoch 8/10\n",
            "701/701 [==============================] - 859s 1s/step - loss: 0.2638 - accuracy: 0.8863 - val_loss: 0.5631 - val_accuracy: 0.7878\n",
            "Epoch 9/10\n",
            "701/701 [==============================] - 877s 1s/step - loss: 0.2235 - accuracy: 0.9050 - val_loss: 0.6273 - val_accuracy: 0.7826\n",
            "Epoch 10/10\n",
            "701/701 [==============================] - 855s 1s/step - loss: 0.1895 - accuracy: 0.9205 - val_loss: 0.7523 - val_accuracy: 0.7730\n"
          ]
        },
        {
          "output_type": "execute_result",
          "data": {
            "text/plain": [
              "<keras.callbacks.History at 0x7fa0c8edfa00>"
            ]
          },
          "metadata": {},
          "execution_count": 30
        }
      ]
    },
    {
      "cell_type": "code",
      "source": [
        "model.save('/content/drive/MyDrive/Models/catsndogs.model')"
      ],
      "metadata": {
        "colab": {
          "base_uri": "https://localhost:8080/"
        },
        "id": "FbOO0IkSvZnW",
        "outputId": "5b8fd783-9d4a-42d2-af40-a77af842420c"
      },
      "execution_count": 38,
      "outputs": [
        {
          "output_type": "stream",
          "name": "stderr",
          "text": [
            "WARNING:absl:Found untraced functions such as _jit_compiled_convolution_op, _jit_compiled_convolution_op, _update_step_xla while saving (showing 3 of 3). These functions will not be directly callable after loading.\n"
          ]
        }
      ]
    }
  ]
}